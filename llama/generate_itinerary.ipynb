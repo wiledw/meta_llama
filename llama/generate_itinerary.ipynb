{
 "cells": [
  {
   "cell_type": "code",
   "execution_count": 128,
   "id": "initial_id",
   "metadata": {
    "collapsed": true,
    "ExecuteTime": {
     "end_time": "2024-11-24T08:33:43.895001Z",
     "start_time": "2024-11-24T08:33:42.580745Z"
    }
   },
   "outputs": [],
   "source": [
    "import pytz\n",
    "import datetime\n",
    "from datetime import datetime\n",
    "import requests\n",
    "import time\n",
    "import networkx as nx\n",
    "import os\n",
    "import matplotlib.pyplot as plt\n",
    "from networkx.algorithms.approximation import traveling_salesman_problem\n",
    "from dotenv import load_dotenv \n",
    "import json\n",
    "from groq import Groq\n",
    "\n",
    "load_dotenv() \n",
    "GOOGLE_API_KEY = os.getenv(\"GOOGLE_API_KEY\") "
   ]
  },
  {
   "cell_type": "code",
   "execution_count": 129,
   "outputs": [],
   "source": [
    "client = Groq(api_key=os.getenv(\"GROQ_API_KEY\"))\n",
    "model_name = \"llama-3.2-90b-vision-preview\""
   ],
   "metadata": {
    "collapsed": false,
    "ExecuteTime": {
     "end_time": "2024-11-24T08:33:44.653269Z",
     "start_time": "2024-11-24T08:33:44.625726Z"
    }
   },
   "id": "bf701b00c3df99ce"
  },
  {
   "cell_type": "code",
   "execution_count": 73,
   "outputs": [],
   "source": [
    "def pretty_json(json_data):\n",
    "    \n",
    "    # Convert the Python dictionary back to a nicely formatted JSON string\n",
    "    formatted_json = json.dumps(json_data, indent=4)\n",
    "    \n",
    "    return formatted_json"
   ],
   "metadata": {
    "collapsed": false,
    "ExecuteTime": {
     "end_time": "2024-11-24T06:45:53.040715Z",
     "start_time": "2024-11-24T06:45:53.038940Z"
    }
   },
   "id": "cc6f8363c80fc271"
  },
  {
   "cell_type": "code",
   "execution_count": 109,
   "outputs": [],
   "source": [
    "def get_step_data(transit_step):\n",
    "    return {\n",
    "        \"departure_stop\": transit_step[\"transit_details\"][\"departure_stop\"][\"name\"],\n",
    "        \"departure_time\": transit_step[\"transit_details\"][\"departure_time\"][\"value\"],\n",
    "        \"arrival_stop\": transit_step[\"transit_details\"][\"arrival_stop\"][\"name\"],\n",
    "        \"arrival_time\": transit_step[\"transit_details\"][\"arrival_time\"][\"value\"],\n",
    "        \"line_name\": transit_step[\"transit_details\"][\"line\"][\"name\"],\n",
    "        \"vehicle_type\": transit_step[\"transit_details\"][\"line\"][\"vehicle\"][\"name\"],\n",
    "    }"
   ],
   "metadata": {
    "collapsed": false,
    "ExecuteTime": {
     "end_time": "2024-11-24T08:10:14.385272Z",
     "start_time": "2024-11-24T08:10:14.375236Z"
    }
   },
   "id": "2ee02f1c596cde"
  },
  {
   "cell_type": "code",
   "execution_count": 120,
   "outputs": [],
   "source": [
    "def get_dir_data(origin, destination, start_datetime):\n",
    "    url = (\n",
    "        f\"https://maps.googleapis.com/maps/api/directions/json?\"\n",
    "        f\"origin={origin}&destination={destination}&departure_time={start_datetime}&mode=transit&key={GOOGLE_API_KEY}\"\n",
    "    )\n",
    "    response = requests.get(url)\n",
    "    data = response.json()\n",
    "    steps = [step for step in data[\"routes\"][0][\"legs\"][0][\"steps\"] if step[\"travel_mode\"] == \"TRANSIT\"]\n",
    "    # print(pretty_json(data))\n",
    "    if data[\"status\"] == \"OK\":\n",
    "        return {\n",
    "            # \"overall_departure_time\": data[\"routes\"][0][\"legs\"][0][\"departure_time\"][\"value\"],\n",
    "            # \"overall_arrival_time\": data[\"routes\"][0][\"legs\"][0][\"arrival_time\"][\"value\"],\n",
    "            \"overall_duration\": data[\"routes\"][0][\"legs\"][0][\"duration\"][\"value\"],\n",
    "            \"steps\": steps\n",
    "        }\n",
    "        # return data['rows'][0]['elements'][0][\"duration_in_traffic\"][\"value\"]  # Travel time in seconds\n",
    "    else:\n",
    "        print(f\"Error: {data['status']} for route {origin} -> {destination}\")\n",
    "        print(response.text)\n",
    "        return None"
   ],
   "metadata": {
    "collapsed": false,
    "ExecuteTime": {
     "end_time": "2024-11-24T08:20:09.521091Z",
     "start_time": "2024-11-24T08:20:09.503273Z"
    }
   },
   "id": "6ae45e235e9d75f"
  },
  {
   "cell_type": "code",
   "execution_count": 121,
   "outputs": [],
   "source": [
    "def get_travel_time(origin, destination, start_datetime):\n",
    "    dir_data = get_dir_data(origin, destination, start_datetime)\n",
    "    if dir_data is not None:\n",
    "        return dir_data[\"overall_duration\"]\n",
    "    else:\n",
    "        return None"
   ],
   "metadata": {
    "collapsed": false,
    "ExecuteTime": {
     "end_time": "2024-11-24T08:20:10.684984Z",
     "start_time": "2024-11-24T08:20:10.682119Z"
    }
   },
   "id": "a286527d255ca8f7"
  },
  {
   "cell_type": "code",
   "execution_count": 122,
   "outputs": [
    {
     "name": "stdout",
     "output_type": "stream",
     "text": [
      "1732629600\n"
     ]
    }
   ],
   "source": [
    "chosen_places = ['Toronto International Airport', 'CN Tower', 'Casa Loma', 'Hockey Hall of Fame', 'St. Lawrence Market', 'Royal Ontario Museum']\n",
    "stay_times = [0, 2, 2, 2, 2, 2]  # In hours\n",
    "toronto_tz = pytz.timezone('America/Toronto')\n",
    "departure_str = \"2024-11-26 09:00:00\"\n",
    "departure_timestamp = int(datetime.strptime(departure_str, \"%Y-%m-%d %H:%M:%S\").timestamp())\n",
    "print(departure_timestamp)"
   ],
   "metadata": {
    "collapsed": false,
    "ExecuteTime": {
     "end_time": "2024-11-24T08:20:11.477489Z",
     "start_time": "2024-11-24T08:20:11.472362Z"
    }
   },
   "id": "d7c61c717bbca12b"
  },
  {
   "cell_type": "code",
   "execution_count": 146,
   "outputs": [
    {
     "name": "stdout",
     "output_type": "stream",
     "text": [
      "\tFrom Pearson Station to Union on Union Pearson Express\n",
      "From Toronto International Airport to Hockey Hall of Fame departing at 2024-11-26 09:00:00\n",
      "Staying at Hockey Hall of Fame for 2 hours\n",
      "From Hockey Hall of Fame to St. Lawrence Market departing at 2024-11-26 11:39:39\n",
      "Staying at St. Lawrence Market for 2 hours\n",
      "\tFrom King to Museum Station on Line 1 Yonge–University\n",
      "From St. Lawrence Market to Royal Ontario Museum departing at 2024-11-26 13:47:03\n",
      "Staying at Royal Ontario Museum for 2 hours\n",
      "\tFrom Museum Station to Dupont on Line 1 Yonge–University\n",
      "From Royal Ontario Museum to Casa Loma departing at 2024-11-26 16:06:10\n",
      "Staying at Casa Loma for 2 hours\n",
      "\tFrom Dupont to Union on Line 1 Yonge–University\n",
      "From Casa Loma to CN Tower departing at 2024-11-26 18:22:02\n",
      "Staying at CN Tower for 2 hours\n"
     ]
    }
   ],
   "source": [
    "places_dict = {i: place for i, place in enumerate(chosen_places)}\n",
    "curr_i = 0\n",
    "curr_time = departure_timestamp\n",
    "res = \"\"\n",
    "while len(places_dict) > 1:\n",
    "    del places_dict[curr_i]\n",
    "    min_value = float('inf')  \n",
    "    next_place = None\n",
    "    chosen_data = None\n",
    "    for place in places_dict.values():\n",
    "        dir_data = get_dir_data(chosen_places[curr_i], place, curr_time)\n",
    "        t = dir_data[\"overall_duration\"]\n",
    "        if t < min_value:\n",
    "            min_value = t\n",
    "            next_place = place\n",
    "            chosen_data = dir_data\n",
    "    curr_time += stay_times[curr_i] * 3600\n",
    "    for step in chosen_data[\"steps\"]:\n",
    "        step_data = get_step_data(step)\n",
    "        res += f\"\\tFrom {step_data['departure_stop']} to {step_data['arrival_stop']} on {step_data['line_name']}\\n\"\n",
    "    time_needed = chosen_data[\"overall_duration\"]\n",
    "    curr_time_formatted = time.strftime(\"%Y-%m-%d %H:%M:%S\", time.localtime(curr_time))\n",
    "    res += f\"From {chosen_places[curr_i]} to {next_place} departing at {curr_time_formatted}\\n\"\n",
    "    curr_time += time_needed\n",
    "    curr_i = chosen_places.index(next_place)\n",
    "    res += f\"Staying at {chosen_places[curr_i]} for {stay_times[curr_i]} hours\\n\"\n",
    "print(res)"
   ],
   "metadata": {
    "collapsed": false,
    "ExecuteTime": {
     "end_time": "2024-11-24T08:53:02.670143Z",
     "start_time": "2024-11-24T08:52:57.492590Z"
    }
   },
   "id": "84ed56921435ef68"
  },
  {
   "cell_type": "code",
   "execution_count": 158,
   "outputs": [],
   "source": [
    "itinerary_prompt = f\"\"\"\n",
    "Here's an example of an itinerary:\n",
    "Itenerary for a day trip to Hong Kong on 2024-11-26\n",
    "09:00 - Depart from Hong Kong International Airport\n",
    "    09:09 - Take the Airport Express From Airport to Tsing Yi Station\n",
    "    09:24 - Take Bus 41 From Tsing Yi Square to Kowloon Station\n",
    "10:24 - Arrived at Elements shopping mall. Stay for 2 hours. You can do a lot here, including ...\n",
    "    12:24 - Walk to M+ Museum\n",
    "12:30 - Arrive at M+ Museum. Stay for 2 hours. You can see the latest exhibitions and ...\n",
    "etc.\n",
    "\n",
    "Here's the information needed for your itinerary: \n",
    "{res}\n",
    "\n",
    "Make sure you include every single detail in the information provided, including every transit to take from the first to last stop, departure, arrival stops and departure time for each transit. For the timestamp, only include hour and minute. Create an itinerary with this information. For each attraction the user will stay for some time, include a one to two line description about the attraction. Only indent if the user walks or takes a transit.\"\"\""
   ],
   "metadata": {
    "collapsed": false,
    "ExecuteTime": {
     "end_time": "2024-11-24T09:19:02.140921Z",
     "start_time": "2024-11-24T09:19:02.127974Z"
    }
   },
   "id": "133f38a9766334e"
  },
  {
   "cell_type": "code",
   "execution_count": 159,
   "outputs": [
    {
     "name": "stdout",
     "output_type": "stream",
     "text": [
      "Itinerary for a day trip to Toronto on 2024-11-26\n",
      "\n",
      "09:00 - Depart from Toronto International Airport\n",
      "    09:00 - Take the Union Pearson Express From Pearson Station to Union\n",
      "    09:25 - Arrived at Union Station\n",
      "    09:25 - Walk to Hockey Hall of Fame\n",
      "09:30 - Arrived at Hockey Hall of Fame. Stay for 2 hours. The Hockey Hall of Fame is a museum dedicated to the history of ice hockey, featuring exhibits on the greatest players, teams, and moments in the sport.\n",
      "\n",
      "11:30 - Depart from Hockey Hall of Fame\n",
      "    11:39 - Walk to St. Lawrence Market\n",
      "11:39 - Arrived at St. Lawrence Market. Stay for 2 hours. St. Lawrence Market is a historic marketplace featuring over 120 vendors selling everything from fresh produce to artisanal foods.\n",
      "\n",
      "13:39 - Depart from St. Lawrence Market\n",
      "    13:47 - Take Line 1 Yonge–University From King to Museum Station\n",
      "    13:53 - Arrived at Museum Station\n",
      "    13:53 - Walk to Royal Ontario Museum\n",
      "13:53 - Arrived at Royal Ontario Museum. Stay for 2 hours. The Royal Ontario Museum is one of Canada's largest and most comprehensive museums, featuring a vast collection of artifacts and exhibits from around the world.\n",
      "\n",
      "15:53 - Depart from Royal Ontario Museum\n",
      "    16:06 - Take Line 1 Yonge–University From Museum Station to Dupont\n",
      "    16:12 - Arrived at Dupont Station\n",
      "    16:12 - Walk to Casa Loma\n",
      "16:12 - Arrived at Casa Loma. Stay for 2 hours. Casa Loma is a majestic castle built in the early 20th century, featuring opulent decor, gardens, and a fascinating history.\n",
      "\n",
      "18:12 - Depart from Casa Loma\n",
      "    18:22 - Take Line 1 Yonge–University From Dupont to Union\n",
      "    18:28 - Arrived at Union Station\n",
      "    18:28 - Walk to CN Tower\n",
      "18:28 - Arrived at CN Tower. Stay for 2 hours. The CN Tower is a iconic 553-meter-tall observation and telecommunications tower, offering breathtaking views of the city and Lake Ontario.\n"
     ]
    }
   ],
   "source": [
    "response = client.chat.completions.create(\n",
    "    model=model_name,\n",
    "    messages=[{\"role\": \"user\",\n",
    "               \"content\": itinerary_prompt},],\n",
    "    temperature=0,\n",
    ")\n",
    "itineraray_res = response.choices[0].message.content\n",
    "print(itineraray_res)"
   ],
   "metadata": {
    "collapsed": false,
    "ExecuteTime": {
     "end_time": "2024-11-24T09:19:05.266291Z",
     "start_time": "2024-11-24T09:19:03.232508Z"
    }
   },
   "id": "5c25a66fd63961a4"
  },
  {
   "cell_type": "code",
   "execution_count": 160,
   "outputs": [],
   "source": [
    "format_prompt = f\"\"\"\n",
    "Here's the itinerary:\n",
    "{itineraray_res}\n",
    "\n",
    "Format the itinerary into a json object with \"itinerary\" as the top key and the value as a list of dictionaries. Apart from \"itinerary\", the top key should also include \"title\", ie the first line. Each dictionary should have the following keys: \"Timestamp\", \"Description\" and \"transit\". Hint: the '-' in each line separates timestamp and description. The transit key is a bool value indicating whether the user is taking a transit or not. If there is an indentation on that line, transit should be True otherwise False. The timestamp should be in the format HH:MM. The description should be a string. The itinerary should be in chronological order.       \n",
    "\"\"\""
   ],
   "metadata": {
    "collapsed": false,
    "ExecuteTime": {
     "end_time": "2024-11-24T09:20:32.755053Z",
     "start_time": "2024-11-24T09:20:32.732269Z"
    }
   },
   "id": "275ab0e9440cfa14"
  },
  {
   "cell_type": "code",
   "execution_count": 161,
   "outputs": [
    {
     "name": "stdout",
     "output_type": "stream",
     "text": [
      "```json\n",
      "{\n",
      "    \"title\": \"Itinerary for a day trip to Toronto on 2024-11-26\",\n",
      "    \"itinerary\": [\n",
      "        {\n",
      "            \"Timestamp\": \"09:00\",\n",
      "            \"Description\": \"Depart from Toronto International Airport\",\n",
      "            \"transit\": false\n",
      "        },\n",
      "        {\n",
      "            \"Timestamp\": \"09:00\",\n",
      "            \"Description\": \"Take the Union Pearson Express From Pearson Station to Union\",\n",
      "            \"transit\": true\n",
      "        },\n",
      "        {\n",
      "            \"Timestamp\": \"09:25\",\n",
      "            \"Description\": \"Arrived at Union Station\",\n",
      "            \"transit\": true\n",
      "        },\n",
      "        {\n",
      "            \"Timestamp\": \"09:25\",\n",
      "            \"Description\": \"Walk to Hockey Hall of Fame\",\n",
      "            \"transit\": true\n",
      "        },\n",
      "        {\n",
      "            \"Timestamp\": \"09:30\",\n",
      "            \"Description\": \"Arrived at Hockey Hall of Fame. Stay for 2 hours. The Hockey Hall of Fame is a museum dedicated to the history of ice hockey, featuring exhibits on the greatest players, teams, and moments in the sport.\",\n",
      "            \"transit\": false\n",
      "        },\n",
      "        {\n",
      "            \"Timestamp\": \"11:30\",\n",
      "            \"Description\": \"Depart from Hockey Hall of Fame\",\n",
      "            \"transit\": false\n",
      "        },\n",
      "        {\n",
      "            \"Timestamp\": \"11:39\",\n",
      "            \"Description\": \"Walk to St. Lawrence Market\",\n",
      "            \"transit\": true\n",
      "        },\n",
      "        {\n",
      "            \"Timestamp\": \"11:39\",\n",
      "            \"Description\": \"Arrived at St. Lawrence Market. Stay for 2 hours. St. Lawrence Market is a historic marketplace featuring over 120 vendors selling everything from fresh produce to artisanal foods.\",\n",
      "            \"transit\": false\n",
      "        },\n",
      "        {\n",
      "            \"Timestamp\": \"13:39\",\n",
      "            \"Description\": \"Depart from St. Lawrence Market\",\n",
      "            \"transit\": false\n",
      "        },\n",
      "        {\n",
      "            \"Timestamp\": \"13:47\",\n",
      "            \"Description\": \"Take Line 1 Yonge–University From King to Museum Station\",\n",
      "            \"transit\": true\n",
      "        },\n",
      "        {\n",
      "            \"Timestamp\": \"13:53\",\n",
      "            \"Description\": \"Arrived at Museum Station\",\n",
      "            \"transit\": true\n",
      "        },\n",
      "        {\n",
      "            \"Timestamp\": \"13:53\",\n",
      "            \"Description\": \"Walk to Royal Ontario Museum\",\n",
      "            \"transit\": true\n",
      "        },\n",
      "        {\n",
      "            \"Timestamp\": \"13:53\",\n",
      "            \"Description\": \"Arrived at Royal Ontario Museum. Stay for 2 hours. The Royal Ontario Museum is one of Canada's largest and most comprehensive museums, featuring a vast collection of artifacts and exhibits from around the world.\",\n",
      "            \"transit\": false\n",
      "        },\n",
      "        {\n",
      "            \"Timestamp\": \"15:53\",\n",
      "            \"Description\": \"Depart from Royal Ontario Museum\",\n",
      "            \"transit\": false\n",
      "        },\n",
      "        {\n",
      "            \"Timestamp\": \"16:06\",\n",
      "            \"Description\": \"Take Line 1 Yonge–University From Museum Station to Dupont\",\n",
      "            \"transit\": true\n",
      "        },\n",
      "        {\n",
      "            \"Timestamp\": \"16:12\",\n",
      "            \"Description\": \"Arrived at Dupont Station\",\n",
      "            \"transit\": true\n",
      "        },\n",
      "        {\n",
      "            \"Timestamp\": \"16:12\",\n",
      "            \"Description\": \"Walk to Casa Loma\",\n",
      "            \"transit\": true\n",
      "        },\n",
      "        {\n",
      "            \"Timestamp\": \"16:12\",\n",
      "            \"Description\": \"Arrived at Casa Loma. Stay for 2 hours. Casa Loma is a majestic castle built in the early 20th century, featuring opulent decor, gardens, and a fascinating history.\",\n",
      "            \"transit\": false\n",
      "        },\n",
      "        {\n",
      "            \"Timestamp\": \"18:12\",\n",
      "            \"Description\": \"Depart from Casa Loma\",\n",
      "            \"transit\": false\n",
      "        },\n",
      "        {\n",
      "            \"Timestamp\": \"18:22\",\n",
      "            \"Description\": \"Take Line 1 Yonge–University From Dupont to Union\",\n",
      "            \"transit\": true\n",
      "        },\n",
      "        {\n",
      "            \"Timestamp\": \"18:28\",\n",
      "            \"Description\": \"Arrived at Union Station\",\n",
      "            \"transit\": true\n",
      "        },\n",
      "        {\n",
      "            \"Timestamp\": \"18:28\",\n",
      "            \"Description\": \"Walk to CN Tower\",\n",
      "            \"transit\": true\n",
      "        },\n",
      "        {\n",
      "            \"Timestamp\": \"18:28\",\n",
      "            \"Description\": \"Arrived at CN Tower. Stay for 2 hours. The CN Tower is a iconic 553-meter-tall observation and telecommunications tower, offering breathtaking views of the city and Lake Ontario.\",\n",
      "            \"transit\": false\n",
      "        }\n",
      "    ]\n",
      "}\n",
      "```\n"
     ]
    }
   ],
   "source": [
    "response = client.chat.completions.create(\n",
    "    model=model_name,\n",
    "    messages=[{\"role\": \"user\",\n",
    "               \"content\": format_prompt},],\n",
    "    temperature=0,\n",
    ")\n",
    "format_res = response.choices[0].message.content\n",
    "print(format_res)"
   ],
   "metadata": {
    "collapsed": false,
    "ExecuteTime": {
     "end_time": "2024-11-24T09:20:39.130453Z",
     "start_time": "2024-11-24T09:20:33.474526Z"
    }
   },
   "id": "2cef627055a97986"
  }
 ],
 "metadata": {
  "kernelspec": {
   "display_name": "Python 3",
   "language": "python",
   "name": "python3"
  },
  "language_info": {
   "codemirror_mode": {
    "name": "ipython",
    "version": 2
   },
   "file_extension": ".py",
   "mimetype": "text/x-python",
   "name": "python",
   "nbconvert_exporter": "python",
   "pygments_lexer": "ipython2",
   "version": "2.7.6"
  }
 },
 "nbformat": 4,
 "nbformat_minor": 5
}
