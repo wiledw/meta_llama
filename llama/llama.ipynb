{
 "cells": [
  {
   "cell_type": "code",
   "execution_count": 349,
   "outputs": [],
   "source": [
    "import os\n",
    "import base64\n",
    "import ast\n",
    "import json\n",
    "\n",
    "from groq import Groq\n",
    "from llama_index.embeddings.openai import OpenAIEmbedding\n",
    "from dotenv import load_dotenv\n",
    "from llama_index.core.node_parser import LangchainNodeParser\n",
    "from langchain.text_splitter import RecursiveCharacterTextSplitter\n",
    "from llama_index.vector_stores.faiss import FaissVectorStore\n",
    "from llama_index.core import VectorStoreIndex, Document, Settings, StorageContext\n",
    "from llama_index.llms.openai_like import OpenAILike\n",
    "from llama_index.core.query_engine import RetrieverQueryEngine\n",
    "from llama_index.core.readers import StringIterableReader\n",
    "import faiss\n"
   ],
   "metadata": {
    "collapsed": false,
    "ExecuteTime": {
     "end_time": "2024-11-24T01:12:34.272063Z",
     "start_time": "2024-11-24T01:12:34.265774Z"
    }
   },
   "id": "d457fc2d517eb438"
  },
  {
   "cell_type": "code",
   "execution_count": 350,
   "outputs": [],
   "source": [
    "load_dotenv()\n",
    "\n",
    "client = Groq(api_key=os.getenv(\"GROQ_API_KEY\"))\n",
    "model_name = \"llama-3.2-90b-vision-preview\"\n",
    "model2_name = \"meta-llama/Meta-Llama-3.1-70B-Instruct\"\n",
    "client2 = OpenAILike(\n",
    "    model=model2_name,\n",
    "    is_chat_model=True,\n",
    "    api_base=\"https://api.studio.nebius.ai/v1/\",\n",
    "    api_key=os.environ.get(\"NEBIUS_API_KEY\"),\n",
    "    temperature=0,\n",
    ")"
   ],
   "metadata": {
    "collapsed": false,
    "ExecuteTime": {
     "end_time": "2024-11-24T01:12:35.082331Z",
     "start_time": "2024-11-24T01:12:35.054850Z"
    }
   },
   "id": "d9b71874407397a9"
  },
  {
   "cell_type": "code",
   "execution_count": 351,
   "outputs": [
    {
     "name": "stdout",
     "output_type": "stream",
     "text": [
      "Sir John A. Macdonald was the first Prime Minister of Canada, serving from July 1, 1867, to November 5, 1873.\n"
     ]
    }
   ],
   "source": [
    "# testing\n",
    "response = client.chat.completions.create(\n",
    "    model=model_name,\n",
    "    messages=[{\"role\": \"user\",\n",
    "               \"content\": \"Who was the first PM in Canada?\"}]\n",
    ")\n",
    "print(response.choices[0].message.content)\n"
   ],
   "metadata": {
    "collapsed": false,
    "ExecuteTime": {
     "end_time": "2024-11-24T01:12:37.386238Z",
     "start_time": "2024-11-24T01:12:36.870039Z"
    }
   },
   "id": "8ce8deb40b8cfec2"
  },
  {
   "cell_type": "markdown",
   "source": [
    "## 1. Provide travel idea along with destination"
   ],
   "metadata": {
    "collapsed": false
   },
   "id": "625385c03c7f047b"
  },
  {
   "cell_type": "code",
   "execution_count": 304,
   "outputs": [
    {
     "name": "stdout",
     "output_type": "stream",
     "text": [
      "The main object in the photo is a white, ceramic escargot dish with nine indentations. The dish is filled with cooked snails covered in a green sauce, and there is a silver fork resting on top of it. The dish is placed on a tablecloth with a green and brown striped pattern.\n"
     ]
    }
   ],
   "source": [
    "image_path = './pics/french_cuisine.jpg'\n",
    "with open(image_path, \"rb\") as image_file:\n",
    "    enc_image = base64.b64encode(image_file.read()).decode('utf-8')\n",
    "    photo_prompt = \"Identify and name the main object in the photo and describe it in a short paragraph.\"\n",
    "    photo_description = client.chat.completions.create(\n",
    "        model=model_name,\n",
    "        messages=[{\"role\": \"user\",\n",
    "                   \"content\": [\n",
    "                       {\"type\": \"text\", \"text\": photo_prompt},\n",
    "                       {\"type\": \"image_url\", \"image_url\": {\"url\": f\"data:image/jpeg;base64,{enc_image}\"}}\n",
    "                   ]}],\n",
    "        temperature=0,\n",
    "    )\n",
    "    photo_description = photo_description.choices[0].message.content\n",
    "    print(photo_description)"
   ],
   "metadata": {
    "collapsed": false,
    "ExecuteTime": {
     "end_time": "2024-11-23T23:34:42.226359Z",
     "start_time": "2024-11-23T23:34:40.974241Z"
    }
   },
   "id": "7aa8b26cba7088d4"
  },
  {
   "cell_type": "code",
   "execution_count": 305,
   "outputs": [],
   "source": [
    "# user_prompt = \"I want to travel to Paris and try authentic French cuisine, including the dish in the photo. Give me spot recommendations most tourists don't know about.\""
   ],
   "metadata": {
    "collapsed": false,
    "ExecuteTime": {
     "end_time": "2024-11-23T23:35:10.328265Z",
     "start_time": "2024-11-23T23:35:10.319690Z"
    }
   },
   "id": "79b9b9ca2deccac9"
  },
  {
   "cell_type": "code",
   "execution_count": 372,
   "outputs": [],
   "source": [
    "user_prompt = \"I wanna go to Rio de Janeiro and go to local craft shops possibly not know by many. I'm interested in local culture and art.\"\n",
    "photo_description = \"No photo uploaded\""
   ],
   "metadata": {
    "collapsed": false,
    "ExecuteTime": {
     "end_time": "2024-11-24T01:21:45.193141Z",
     "start_time": "2024-11-24T01:21:45.187083Z"
    }
   },
   "id": "7e65f3a34dd0d6ef"
  },
  {
   "cell_type": "code",
   "execution_count": 373,
   "outputs": [],
   "source": [
    "assistant_prompt = f\"\"\"\n",
    "User prompt:\n",
    "{user_prompt}\n",
    "\n",
    "Descriptions of uploaded photos:\n",
    "{photo_description}\n",
    "\n",
    "Instructions:\n",
    "You are a travelling assistant. Find out what kind of places the user wants to visit by finding out keywords in the user prompt. If there are uploaded photos, try to find out how they relates to the user's intent and find key words in it. Next, create ONE concise query you'd put in a search engine to find suitable local places which are less-known to tourists for the user to visit according to the user's requests. For example, if the user wants to visit museums in London, the search query would be \"London local museums\". Output this ONE query in the language used in the user's travel destination. ONLY output the query and nothing else. DO NOT include your thought process. \n",
    "\"\"\""
   ],
   "metadata": {
    "collapsed": false,
    "ExecuteTime": {
     "end_time": "2024-11-24T01:21:45.712928Z",
     "start_time": "2024-11-24T01:21:45.706106Z"
    }
   },
   "id": "11cceec2c75a3a46"
  },
  {
   "cell_type": "code",
   "execution_count": 374,
   "outputs": [
    {
     "name": "stdout",
     "output_type": "stream",
     "text": [
      "\"lojas de artesanato locais em Rio de Janeiro\"\n"
     ]
    }
   ],
   "source": [
    "response = client.chat.completions.create(\n",
    "    model=model_name,\n",
    "    messages=[{\"role\": \"user\",\n",
    "               \"content\": assistant_prompt},],\n",
    "    temperature=0,\n",
    ")\n",
    "search_query = response.choices[0].message.content\n",
    "print(search_query)"
   ],
   "metadata": {
    "collapsed": false,
    "ExecuteTime": {
     "end_time": "2024-11-24T01:21:47.474842Z",
     "start_time": "2024-11-24T01:21:46.737527Z"
    }
   },
   "id": "26d94a74e95b927d"
  },
  {
   "cell_type": "code",
   "execution_count": 355,
   "outputs": [
    {
     "name": "stdout",
     "output_type": "stream",
     "text": [
      "Artesanato local Rio de Janeiro\n"
     ]
    }
   ],
   "source": [
    "p2 = f\"Given this search query: {search_query}, locate keywords in it and shorten it to around 6 words. ONLY output the shortened search query and nothing else.\"\n",
    "response = client.chat.completions.create(\n",
    "    model=model_name,\n",
    "    messages=[{\"role\": \"user\",\n",
    "               \"content\": p2},]\n",
    "              \n",
    ")\n",
    "search_query_short = response.choices[0].message.content\n",
    "print(search_query_short)"
   ],
   "metadata": {
    "collapsed": false,
    "ExecuteTime": {
     "end_time": "2024-11-24T01:12:48.273371Z",
     "start_time": "2024-11-24T01:12:48.105864Z"
    }
   },
   "id": "5fc83081f3fbcda"
  },
  {
   "cell_type": "code",
   "execution_count": 356,
   "outputs": [
    {
     "name": "stdout",
     "output_type": "stream",
     "text": [
      "English\n"
     ]
    }
   ],
   "source": [
    "response = client.chat.completions.create(\n",
    "    model=model_name,\n",
    "    messages=[{\"role\": \"user\",\n",
    "               \"content\": f\"User prompt:\\n{user_prompt}\\n\\nGet the language of the user prompt. Return only this language and nothing else, so return ONE word.\"},]\n",
    "              \n",
    ")\n",
    "user_language = response.choices[0].message.content\n",
    "print(user_language)"
   ],
   "metadata": {
    "collapsed": false,
    "ExecuteTime": {
     "end_time": "2024-11-24T01:12:50.985088Z",
     "start_time": "2024-11-24T01:12:50.844691Z"
    }
   },
   "id": "c47c69b88abe9764"
  },
  {
   "cell_type": "code",
   "execution_count": 357,
   "outputs": [
    {
     "name": "stdout",
     "output_type": "stream",
     "text": [
      "pt-br\n"
     ]
    }
   ],
   "source": [
    "search_prompt = f\"\"\"Given the list of languages choose one that you want to find search results in. ONLY provide the language code.\n",
    "\n",
    "User prompt:\n",
    "{user_prompt}\n",
    "\n",
    "The list of languages:\n",
    "- en\n",
    "- fr\n",
    "- de\n",
    "- es\n",
    "- lang_it\n",
    "- pt-pt\n",
    "- pt-br\n",
    "- th\n",
    "- hi\n",
    "\"\"\"\n",
    "response = client.chat.completions.create(\n",
    "    model=model_name,\n",
    "    messages=[{\"role\": \"user\",\n",
    "               \"content\": search_prompt},]\n",
    "              \n",
    ")\n",
    "language_code = response.choices[0].message.content\n",
    "print(language_code)"
   ],
   "metadata": {
    "collapsed": false,
    "ExecuteTime": {
     "end_time": "2024-11-24T01:12:51.969993Z",
     "start_time": "2024-11-24T01:12:51.552798Z"
    }
   },
   "id": "87bdf9fab70af227"
  },
  {
   "cell_type": "code",
   "execution_count": 358,
   "outputs": [
    {
     "name": "stdout",
     "output_type": "stream",
     "text": [
      "BR\n",
      "Brazil\n"
     ]
    }
   ],
   "source": [
    "coun_code_prompt = f\"\"\"Given the list of countries choose one that you want to find search results in. ONLY provide the countries.\n",
    "\n",
    "User prompt:\n",
    "{user_prompt}\n",
    "\n",
    "The list of countries:\n",
    "GB, US, CA, NZ, AU, BR, FR, DE, ES, IT, PT, BR, IN\n",
    "\"\"\"\n",
    "response = client.chat.completions.create(\n",
    "    model=model_name,\n",
    "    messages=[{\"role\": \"user\",\n",
    "               \"content\": coun_code_prompt},],\n",
    "    temperature=0\n",
    ")\n",
    "country_code = response.choices[0].message.content\n",
    "print(country_code)\n",
    "response = client.chat.completions.create(\n",
    "    model=model_name,\n",
    "    messages=[{\"role\": \"user\",\n",
    "               \"content\": f\"Here is user prompt: {user_prompt}\\n\\nWhich country is the user insterested in? Only output country name and nothing else.\"},],\n",
    "    temperature=0,\n",
    ")\n",
    "country_name = response.choices[0].message.content\n",
    "print(country_name)"
   ],
   "metadata": {
    "collapsed": false,
    "ExecuteTime": {
     "end_time": "2024-11-24T01:12:52.976473Z",
     "start_time": "2024-11-24T01:12:52.629564Z"
    }
   },
   "id": "3a67181e59de88c3"
  },
  {
   "cell_type": "markdown",
   "source": [
    "## 2. Set up RAG for scraped contents"
   ],
   "metadata": {
    "collapsed": false
   },
   "id": "8cc44385bb7fe445"
  },
  {
   "cell_type": "code",
   "execution_count": 375,
   "outputs": [
    {
     "name": "stdout",
     "output_type": "stream",
     "text": [
      "5\n"
     ]
    }
   ],
   "source": [
    "contents = []\n",
    "for i in range(5):\n",
    "    with open(f'./scraped_website/text_{i}.txt', 'r') as f:\n",
    "        contents.append(f.read())\n",
    "print(len(contents))"
   ],
   "metadata": {
    "collapsed": false,
    "ExecuteTime": {
     "end_time": "2024-11-24T01:30:01.143441Z",
     "start_time": "2024-11-24T01:30:01.103665Z"
    }
   },
   "id": "c3578cd75c2fb64e"
  },
  {
   "cell_type": "code",
   "execution_count": 376,
   "outputs": [
    {
     "name": "stdout",
     "output_type": "stream",
     "text": [
      "5\n",
      "334\n"
     ]
    }
   ],
   "source": [
    "# Split web content into chunks\n",
    "splitter = RecursiveCharacterTextSplitter(chunk_size=512, chunk_overlap=32)\n",
    "chunks_text = []\n",
    "for i, content in enumerate(contents):\n",
    "    chunks_text.append(splitter.split_text(content))\n",
    "parser = LangchainNodeParser(splitter)\n",
    "content_docs = StringIterableReader().load_data(texts=contents)\n",
    "print(len(content_docs))\n",
    "chunks = parser.get_nodes_from_documents(content_docs)\n",
    "print(len(chunks))"
   ],
   "metadata": {
    "collapsed": false,
    "ExecuteTime": {
     "end_time": "2024-11-24T01:30:01.875869Z",
     "start_time": "2024-11-24T01:30:01.849337Z"
    }
   },
   "id": "32dcaaabf9d91b2d"
  },
  {
   "cell_type": "code",
   "execution_count": 377,
   "outputs": [],
   "source": [
    "# Set up embedding model and llm\n",
    "embeddings = OpenAIEmbedding()\n",
    "Settings.embed_model = embeddings\n",
    "Settings.llm = client2"
   ],
   "metadata": {
    "collapsed": false,
    "ExecuteTime": {
     "end_time": "2024-11-24T01:30:03.205961Z",
     "start_time": "2024-11-24T01:30:03.193329Z"
    }
   },
   "id": "424bf65a545e9aae"
  },
  {
   "cell_type": "code",
   "execution_count": 378,
   "outputs": [],
   "source": [
    "# Create Vector store and store chunks\n",
    "faiss_dim = len(embeddings.get_text_embedding(\"Hello world\"))\n",
    "faiss_index = faiss.IndexFlatL2(faiss_dim)\n",
    "\n",
    "vector_store = FaissVectorStore(faiss_index=faiss_index)\n",
    "storage_context = StorageContext.from_defaults(vector_store=vector_store)\n",
    "\n",
    "vector_index = VectorStoreIndex(chunks, storage_context=storage_context)"
   ],
   "metadata": {
    "collapsed": false,
    "ExecuteTime": {
     "end_time": "2024-11-24T01:30:18.062579Z",
     "start_time": "2024-11-24T01:30:13.974406Z"
    }
   },
   "id": "fea33532ff6801bb"
  },
  {
   "cell_type": "markdown",
   "source": [
    "## 3. Extract all recommended travel spots"
   ],
   "metadata": {
    "collapsed": false
   },
   "id": "7cb7dc4a2de09ece"
  },
  {
   "cell_type": "code",
   "execution_count": 380,
   "outputs": [
    {
     "name": "stdout",
     "output_type": "stream",
     "text": [
      "['[]', '[]', '[]', \"[('Shopping da Rua Siqueira Campos 143', 'Shopping'), ('Shopping da Siqueira n. 43', 'Shopping'), ('O Sol', 'Artisan Shop'), ('Casa de Artesanato do Estado do Rio de Janeiro', 'Artisan Shop'), ('Cidade do Samba', 'Cultural Space')]\", '[]']\n"
     ]
    }
   ],
   "source": [
    "num_chunks = 100\n",
    "res_str_list = []\n",
    "for chunk in chunks_text:\n",
    "    docs_text = f\"\\n{'-' * 100}\\n\".join([f\"Chunk {i+1}:\\n\\n\" + d for i, d in enumerate(chunk[:num_chunks])])\n",
    "    context_prompt = docs_text\n",
    "    loc_prompt = f\"\"\"\n",
    "        User prompt:\n",
    "        {user_prompt}\n",
    "\n",
    "        Context prompt:\n",
    "        {context_prompt}\n",
    "\n",
    "        Extract at most 5 recommended travel spots the user wants to find according to the user prompt. Only mention the NAMES of the spots and nothing else. Every spot should be a physical location and NOT an event or carnival. DO NOT repeat any names. Return a python list with each element containing a tuple, (spot name, category). Category is the type of spot (eg restaurant, park, museum, zoo, shrine, statue, etc). If there are no new spots in the context prompt, output an empty list. Return only a python list.\n",
    "        \"\"\"\n",
    "    res_str_list.append(str(client2.complete(loc_prompt)))\n",
    "print(res_str_list)"
   ],
   "metadata": {
    "collapsed": false,
    "ExecuteTime": {
     "end_time": "2024-11-24T01:32:33.813739Z",
     "start_time": "2024-11-24T01:32:24.175203Z"
    }
   },
   "id": "245dc81e0bc060eb"
  },
  {
   "cell_type": "code",
   "execution_count": 381,
   "outputs": [
    {
     "name": "stdout",
     "output_type": "stream",
     "text": [
      "{('O Sol', 'Artisan Shop'), ('Cidade do Samba', 'Cultural Space'), ('Shopping da Rua Siqueira Campos 143', 'Shopping'), ('Shopping da Siqueira n. 43', 'Shopping'), ('Casa de Artesanato do Estado do Rio de Janeiro', 'Artisan Shop')}\n"
     ]
    }
   ],
   "source": [
    "res_list = []\n",
    "for res_str in res_str_list:\n",
    "    formatted_res = ast.literal_eval(res_str)\n",
    "    res_list.extend(formatted_res)\n",
    "res_set = set(res_list)\n",
    "print(res_set)"
   ],
   "metadata": {
    "collapsed": false,
    "ExecuteTime": {
     "end_time": "2024-11-24T01:55:13.922611Z",
     "start_time": "2024-11-24T01:55:13.900042Z"
    }
   },
   "id": "52bcf7903274ddcd"
  },
  {
   "cell_type": "markdown",
   "source": [
    "## 4. Retrieve descriptions and reviews for every recommended spot"
   ],
   "metadata": {
    "collapsed": false
   },
   "id": "6118326b766a5765"
  },
  {
   "cell_type": "code",
   "execution_count": 382,
   "outputs": [],
   "source": [
    "retriever = vector_index.as_retriever(similarity_top_k=2)\n",
    "query_engine = RetrieverQueryEngine(retriever=retriever)"
   ],
   "metadata": {
    "collapsed": false,
    "ExecuteTime": {
     "end_time": "2024-11-24T01:55:24.884377Z",
     "start_time": "2024-11-24T01:55:24.881241Z"
    }
   },
   "id": "2fa0915f2cb1f11"
  },
  {
   "cell_type": "code",
   "execution_count": 383,
   "outputs": [
    {
     "name": "stdout",
     "output_type": "stream",
     "text": [
      "Local craft shop in old Copacabana shopping center nearby metro.\n",
      "\n",
      "---\n",
      "Similar craft shop on same street, different building number.\n",
      "\n",
      "---\n",
      "Dynamic space with craft shop and art courses available.\n",
      "\n",
      "---\n",
      "Local craft shop showcasing northeastern Brazilian art and culture.\n",
      "\n",
      "---\n",
      "Cultural space showcasing local art and carnival-related souvenirs nearby.\n",
      "\n",
      "---\n"
     ]
    }
   ],
   "source": [
    "short_desc_map = {}\n",
    "for restaurant, _ in res_list[:6]:\n",
    "    retrieved_docs = retriever.retrieve(restaurant)\n",
    "    retrieved_docs_text = f\"\\n{'-' * 100}\\n\".join([f\"Document {i+1}:\\n\\n\" + d.text for i, d in enumerate(retrieved_docs)])\n",
    "    details_prompt = f\"\"\"\n",
    "        User prompt:\n",
    "        {user_prompt}\n",
    "\n",
    "        Context prompt:\n",
    "        {retrieved_docs_text}\n",
    "        \n",
    "        Give descriptions for the spot: \"{restaurant}\". Give a description in ten words. Translate to the user's language if necessary: {user_language}. Display only the description and nothing else.\n",
    "    \"\"\"\n",
    "    description = str(query_engine.query(details_prompt))\n",
    "    short_desc_map[restaurant] = description\n",
    "    print(description)\n",
    "    print('\\n---\\n')"
   ],
   "metadata": {
    "collapsed": false,
    "ExecuteTime": {
     "end_time": "2024-11-24T01:56:02.863047Z",
     "start_time": "2024-11-24T01:55:53.788421Z"
    }
   },
   "id": "8b20c68521a34302"
  },
  {
   "cell_type": "code",
   "execution_count": 384,
   "outputs": [
    {
     "name": "stdout",
     "output_type": "stream",
     "text": [
      "This shopping center in Copacabana is a hidden gem for those interested in local culture and art. Located at Rua Siqueira Campos 143, it's situated next to the Siqueira Campos metro station, making it easily accessible. Inside, you'll find unique shops selling unfinished wooden, MDF, and plaster pieces, just waiting for your creative touch to be completed with paint, collages, and more.\n",
      "\n",
      "---\n",
      "Shopping da Siqueira n. 43 is a shopping center located on Rua Siqueira Campos in Copacabana, Rio de Janeiro. Although it's not the primary location mentioned, it's worth noting that this shopping center also features stores selling unfinished craft items made of wood, MDF, and plaster, similar to those found at the nearby Shopping da Rua Siqueira Campos 143.\n",
      "\n",
      "---\n",
      "O Sol is a dynamic space that houses a store with various products and offers courses in handicrafts.\n",
      "\n",
      "---\n",
      "Unfortunately, the provided context does not mention \"Casa de Artesanato do Estado do Rio de Janeiro\". However, based on the context, I can suggest a possible description for a local craft shop in Rio de Janeiro. Here's a description of a spot that might fit what you're looking for:\n",
      "\n",
      "Imagine a vibrant marketplace filled with the sounds, smells, and colors of Northeastern Brazilian culture. The Feira São Cristóvão in Rio de Janeiro is a treasure trove of local handicrafts, where artisans showcase their wares, from intricately woven baskets to beautifully crafted wooden decorations. As you wander through the stalls, you'll discover unique pieces that reflect the rich cultural heritage of the region, each one telling a story of tradition and creativity.\n",
      "\n",
      "---\n",
      "Cidade do Samba is a cultural space located in the Gamboa neighborhood of Rio de Janeiro, specifically at Rua Rivadávia Corrêa, 60 - Barracão 1 - 3°. It appears to be associated with Amebras, the Association of Women Entrepreneurs of Brazil, which has developed a line of artisanal products related to Carnival and local culture.\n",
      "\n",
      "---\n"
     ]
    }
   ],
   "source": [
    "desc_map = {}\n",
    "for restaurant, _ in res_list:\n",
    "    retrieved_docs = retriever.retrieve(restaurant)\n",
    "    retrieved_docs_text = f\"\\n{'-' * 100}\\n\".join([f\"Document {i+1}:\\n\\n\" + d.text for i, d in enumerate(retrieved_docs)])\n",
    "    details_prompt = f\"\"\"\n",
    "        User prompt:\n",
    "        {user_prompt}\n",
    "\n",
    "        Context prompt:\n",
    "        {retrieved_docs_text}\n",
    "        \n",
    "        Give descriptions for the spot: \"{restaurant}\". Give a description in one paragraph. Translate to the user's language if necessary: {user_language}. Display only the description and nothing else.\n",
    "    \"\"\"\n",
    "    description = str(query_engine.query(details_prompt))\n",
    "    desc_map[restaurant] = description\n",
    "    print(description)\n",
    "    print('\\n---\\n')"
   ],
   "metadata": {
    "collapsed": false,
    "ExecuteTime": {
     "end_time": "2024-11-24T01:56:47.096084Z",
     "start_time": "2024-11-24T01:56:32.491490Z"
    }
   },
   "id": "a8d68c823b1636b4"
  },
  {
   "cell_type": "code",
   "execution_count": 386,
   "outputs": [
    {
     "name": "stdout",
     "output_type": "stream",
     "text": [
      "Shopping Cidade Copacabana: Rating: 4.2/5\n",
      "\n",
      "\n",
      "The Shopping Cidade Copacabana is a traditional and well-located spot with a variety of shops, services, and attractions, including antique stores, art exhibitions, a theater, restaurants, cafes, and a supermarket. Reviewers praise its unique and eclectic offerings, making it an excellent destination for those seeking one-of-a-kind items for their homes or offices. The spot is also commended for its convenient location, security, and amenities, although the parking area is noted to be in need of improvement. Overall, it is a great place to find something special, enjoy a meal or coffee, and take in the local culture.\n",
      "\n",
      "---\n",
      "The Sun Crafts: Rating: 5.0/5\n",
      "\n",
      "\n",
      "The Sun Crafts is a special place with a wide variety of high-quality, exclusive artisanal products, including sculptures, ceramics, textiles, and more. Reviewers praise the friendly staff, beautiful products, and the organization's social and educational work, which supports people in need. Visitors appreciate the unique shopping experience and encourage others to support the cause by making a purchase.\n",
      "\n",
      "---\n",
      "Loja de Artesanato Arte Palha RJ: Rating: 4.8/5\n",
      "\n",
      "\n",
      "Reviewers praise the store for its wide variety of products, excellent prices, and great customer service. Many appreciate the store's location in Copacabana and its ability to cater to their art supply needs. Some reviewers have been loyal customers for years, and others appreciate the store's willingness to produce custom MDF products. Overall, the store is highly recommended for those interested in art and crafts, particularly in the southern zone of Rio de Janeiro.\n",
      "\n",
      "---\n",
      "Samba City: Rating: 5.0/5\n",
      "\n",
      "\n",
      "Visitors to Samba City have had overwhelmingly positive experiences, praising the organization, quick service, and immersive experience into the world of Carnaval. Many reviewers appreciated the behind-the-scenes look at the preparation and production of Carnaval, including the costumes, machinery, and rehearsals. The Carnaval experience is considered a must-see for those interested in understanding the culture and spectacle of Carnaval, with reviewers of all ages finding it engaging and informative. The prices are also considered fair, with some reviewers mentioning discounts for Brazilians and seniors.\n",
      "\n",
      "---\n"
     ]
    }
   ],
   "source": [
    "review_map = {}\n",
    "review_rest_list = ['Shopping Cidade Copacabana', 'The Sun Crafts', 'Loja de Artesanato Arte Palha RJ', 'Samba City']\n",
    "for restaurant in review_rest_list:\n",
    "    with open(f\"./place_details_br/{restaurant}.json\", \"r\", encoding=\"utf-8\") as file:\n",
    "        data = json.load(file)\n",
    "    reviews = data.get(\"reviews\", [])\n",
    "    review_text = \"\\n\\n\".join([r for r in reviews])\n",
    "    review_prompt = f\"\"\"\n",
    "        Reviews:\n",
    "        {review_text}\n",
    "        \n",
    "        Give a summary of the reviews for the spot: {restaurant}. Translate to the user's language: {user_language}. Display ONLY the summary and nothing else. Don't say \"here's the summary\" or anything similar.\n",
    "    \"\"\"\n",
    "    review_summary = str(query_engine.query(review_prompt))\n",
    "    review_map[restaurant] = review_summary\n",
    "    print(f\"{restaurant}: Rating: {data.get('localRating')}/5\\n\\n\")\n",
    "    print(review_summary)\n",
    "    print('\\n---\\n')"
   ],
   "metadata": {
    "collapsed": false,
    "ExecuteTime": {
     "end_time": "2024-11-24T02:01:05.147064Z",
     "start_time": "2024-11-24T02:00:50.962479Z"
    }
   },
   "id": "9377b750a5033e0d"
  },
  {
   "cell_type": "code",
   "execution_count": null,
   "outputs": [],
   "source": [],
   "metadata": {
    "collapsed": false
   },
   "id": "4534617f74d713fc"
  }
 ],
 "metadata": {
  "kernelspec": {
   "name": "beta_meta_llama",
   "language": "python",
   "display_name": "beta_meta_llama"
  },
  "language_info": {
   "codemirror_mode": {
    "name": "ipython",
    "version": 2
   },
   "file_extension": ".py",
   "mimetype": "text/x-python",
   "name": "python",
   "nbconvert_exporter": "python",
   "pygments_lexer": "ipython2",
   "version": "2.7.6"
  }
 },
 "nbformat": 4,
 "nbformat_minor": 5
}
